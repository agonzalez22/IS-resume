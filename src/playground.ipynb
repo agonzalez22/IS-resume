{
 "cells": [
  {
   "cell_type": "markdown",
   "metadata": {},
   "source": [
    "# Testing our program and concepts "
   ]
  },
  {
   "cell_type": "code",
   "execution_count": 1,
   "metadata": {},
   "outputs": [],
   "source": [
    "# imports \n",
    "import requests"
   ]
  },
  {
   "cell_type": "code",
   "execution_count": 7,
   "metadata": {},
   "outputs": [
    {
     "data": {
      "text/plain": [
       "{'id': 636532020,\n",
       " 'node_id': 'R_kgDOJfC1NA',\n",
       " 'name': 'Chat-GPT-Mini-Model',\n",
       " 'full_name': 'agonzalez22/Chat-GPT-Mini-Model',\n",
       " 'private': False,\n",
       " 'owner': {'login': 'agonzalez22',\n",
       "  'id': 55455721,\n",
       "  'node_id': 'MDQ6VXNlcjU1NDU1NzIx',\n",
       "  'avatar_url': 'https://avatars.githubusercontent.com/u/55455721?v=4',\n",
       "  'gravatar_id': '',\n",
       "  'url': 'https://api.github.com/users/agonzalez22',\n",
       "  'html_url': 'https://github.com/agonzalez22',\n",
       "  'followers_url': 'https://api.github.com/users/agonzalez22/followers',\n",
       "  'following_url': 'https://api.github.com/users/agonzalez22/following{/other_user}',\n",
       "  'gists_url': 'https://api.github.com/users/agonzalez22/gists{/gist_id}',\n",
       "  'starred_url': 'https://api.github.com/users/agonzalez22/starred{/owner}{/repo}',\n",
       "  'subscriptions_url': 'https://api.github.com/users/agonzalez22/subscriptions',\n",
       "  'organizations_url': 'https://api.github.com/users/agonzalez22/orgs',\n",
       "  'repos_url': 'https://api.github.com/users/agonzalez22/repos',\n",
       "  'events_url': 'https://api.github.com/users/agonzalez22/events{/privacy}',\n",
       "  'received_events_url': 'https://api.github.com/users/agonzalez22/received_events',\n",
       "  'type': 'User',\n",
       "  'site_admin': False},\n",
       " 'html_url': 'https://github.com/agonzalez22/Chat-GPT-Mini-Model',\n",
       " 'description': None,\n",
       " 'fork': False,\n",
       " 'url': 'https://api.github.com/repos/agonzalez22/Chat-GPT-Mini-Model',\n",
       " 'forks_url': 'https://api.github.com/repos/agonzalez22/Chat-GPT-Mini-Model/forks',\n",
       " 'keys_url': 'https://api.github.com/repos/agonzalez22/Chat-GPT-Mini-Model/keys{/key_id}',\n",
       " 'collaborators_url': 'https://api.github.com/repos/agonzalez22/Chat-GPT-Mini-Model/collaborators{/collaborator}',\n",
       " 'teams_url': 'https://api.github.com/repos/agonzalez22/Chat-GPT-Mini-Model/teams',\n",
       " 'hooks_url': 'https://api.github.com/repos/agonzalez22/Chat-GPT-Mini-Model/hooks',\n",
       " 'issue_events_url': 'https://api.github.com/repos/agonzalez22/Chat-GPT-Mini-Model/issues/events{/number}',\n",
       " 'events_url': 'https://api.github.com/repos/agonzalez22/Chat-GPT-Mini-Model/events',\n",
       " 'assignees_url': 'https://api.github.com/repos/agonzalez22/Chat-GPT-Mini-Model/assignees{/user}',\n",
       " 'branches_url': 'https://api.github.com/repos/agonzalez22/Chat-GPT-Mini-Model/branches{/branch}',\n",
       " 'tags_url': 'https://api.github.com/repos/agonzalez22/Chat-GPT-Mini-Model/tags',\n",
       " 'blobs_url': 'https://api.github.com/repos/agonzalez22/Chat-GPT-Mini-Model/git/blobs{/sha}',\n",
       " 'git_tags_url': 'https://api.github.com/repos/agonzalez22/Chat-GPT-Mini-Model/git/tags{/sha}',\n",
       " 'git_refs_url': 'https://api.github.com/repos/agonzalez22/Chat-GPT-Mini-Model/git/refs{/sha}',\n",
       " 'trees_url': 'https://api.github.com/repos/agonzalez22/Chat-GPT-Mini-Model/git/trees{/sha}',\n",
       " 'statuses_url': 'https://api.github.com/repos/agonzalez22/Chat-GPT-Mini-Model/statuses/{sha}',\n",
       " 'languages_url': 'https://api.github.com/repos/agonzalez22/Chat-GPT-Mini-Model/languages',\n",
       " 'stargazers_url': 'https://api.github.com/repos/agonzalez22/Chat-GPT-Mini-Model/stargazers',\n",
       " 'contributors_url': 'https://api.github.com/repos/agonzalez22/Chat-GPT-Mini-Model/contributors',\n",
       " 'subscribers_url': 'https://api.github.com/repos/agonzalez22/Chat-GPT-Mini-Model/subscribers',\n",
       " 'subscription_url': 'https://api.github.com/repos/agonzalez22/Chat-GPT-Mini-Model/subscription',\n",
       " 'commits_url': 'https://api.github.com/repos/agonzalez22/Chat-GPT-Mini-Model/commits{/sha}',\n",
       " 'git_commits_url': 'https://api.github.com/repos/agonzalez22/Chat-GPT-Mini-Model/git/commits{/sha}',\n",
       " 'comments_url': 'https://api.github.com/repos/agonzalez22/Chat-GPT-Mini-Model/comments{/number}',\n",
       " 'issue_comment_url': 'https://api.github.com/repos/agonzalez22/Chat-GPT-Mini-Model/issues/comments{/number}',\n",
       " 'contents_url': 'https://api.github.com/repos/agonzalez22/Chat-GPT-Mini-Model/contents/{+path}',\n",
       " 'compare_url': 'https://api.github.com/repos/agonzalez22/Chat-GPT-Mini-Model/compare/{base}...{head}',\n",
       " 'merges_url': 'https://api.github.com/repos/agonzalez22/Chat-GPT-Mini-Model/merges',\n",
       " 'archive_url': 'https://api.github.com/repos/agonzalez22/Chat-GPT-Mini-Model/{archive_format}{/ref}',\n",
       " 'downloads_url': 'https://api.github.com/repos/agonzalez22/Chat-GPT-Mini-Model/downloads',\n",
       " 'issues_url': 'https://api.github.com/repos/agonzalez22/Chat-GPT-Mini-Model/issues{/number}',\n",
       " 'pulls_url': 'https://api.github.com/repos/agonzalez22/Chat-GPT-Mini-Model/pulls{/number}',\n",
       " 'milestones_url': 'https://api.github.com/repos/agonzalez22/Chat-GPT-Mini-Model/milestones{/number}',\n",
       " 'notifications_url': 'https://api.github.com/repos/agonzalez22/Chat-GPT-Mini-Model/notifications{?since,all,participating}',\n",
       " 'labels_url': 'https://api.github.com/repos/agonzalez22/Chat-GPT-Mini-Model/labels{/name}',\n",
       " 'releases_url': 'https://api.github.com/repos/agonzalez22/Chat-GPT-Mini-Model/releases{/id}',\n",
       " 'deployments_url': 'https://api.github.com/repos/agonzalez22/Chat-GPT-Mini-Model/deployments',\n",
       " 'created_at': '2023-05-05T04:04:33Z',\n",
       " 'updated_at': '2024-01-23T18:39:12Z',\n",
       " 'pushed_at': '2023-05-26T18:56:54Z',\n",
       " 'git_url': 'git://github.com/agonzalez22/Chat-GPT-Mini-Model.git',\n",
       " 'ssh_url': 'git@github.com:agonzalez22/Chat-GPT-Mini-Model.git',\n",
       " 'clone_url': 'https://github.com/agonzalez22/Chat-GPT-Mini-Model.git',\n",
       " 'svn_url': 'https://github.com/agonzalez22/Chat-GPT-Mini-Model',\n",
       " 'homepage': None,\n",
       " 'size': 1034,\n",
       " 'stargazers_count': 1,\n",
       " 'watchers_count': 1,\n",
       " 'language': 'HTML',\n",
       " 'has_issues': True,\n",
       " 'has_projects': True,\n",
       " 'has_downloads': True,\n",
       " 'has_wiki': True,\n",
       " 'has_pages': False,\n",
       " 'has_discussions': False,\n",
       " 'forks_count': 0,\n",
       " 'mirror_url': None,\n",
       " 'archived': False,\n",
       " 'disabled': False,\n",
       " 'open_issues_count': 0,\n",
       " 'license': None,\n",
       " 'allow_forking': True,\n",
       " 'is_template': False,\n",
       " 'web_commit_signoff_required': False,\n",
       " 'topics': [],\n",
       " 'visibility': 'public',\n",
       " 'forks': 0,\n",
       " 'open_issues': 0,\n",
       " 'watchers': 1,\n",
       " 'default_branch': 'main'}"
      ]
     },
     "execution_count": 7,
     "metadata": {},
     "output_type": "execute_result"
    }
   ],
   "source": [
    "username = 'agonzalez22'\n",
    "url = f'https://api.github.com/users/{username}/repos'\n",
    "data = requests.get(url).json()\n",
    "\n",
    "\n",
    "# need 2 things, owner , repo name and username and sha \n",
    "url_SHA = f'https://api.github.com/repos/{owner}/{repo}/commits'\n",
    "data[1]"
   ]
  }
 ],
 "metadata": {
  "kernelspec": {
   "display_name": "ds",
   "language": "python",
   "name": "python3"
  },
  "language_info": {
   "codemirror_mode": {
    "name": "ipython",
    "version": 3
   },
   "file_extension": ".py",
   "mimetype": "text/x-python",
   "name": "python",
   "nbconvert_exporter": "python",
   "pygments_lexer": "ipython3",
   "version": "3.12.2"
  }
 },
 "nbformat": 4,
 "nbformat_minor": 2
}
